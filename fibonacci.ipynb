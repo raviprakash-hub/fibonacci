{
 "cells": [
  {
   "cell_type": "code",
   "execution_count": 43,
   "id": "868d5727",
   "metadata": {},
   "outputs": [
    {
     "name": "stdout",
     "output_type": "stream",
     "text": [
      "4\n",
      "2\n"
     ]
    }
   ],
   "source": [
    "def fibonacci(n):\n",
    "    \n",
    "    n1,n2=0,1\n",
    "    \n",
    "    if n<0:\n",
    "        print('Incorrect input')\n",
    "    elif n==0:\n",
    "        print('Incorrect input')\n",
    "    elif n==1:\n",
    "        print(n1)\n",
    "    else:\n",
    "        for i in range(2,n):\n",
    "            nth=n1+n2\n",
    "            n1,n2=n2,nth\n",
    "        print(n2)    \n",
    "\n",
    "obj=fibonacci(int(input()))\n"
   ]
  },
  {
   "cell_type": "code",
   "execution_count": 14,
   "id": "f1791cd3",
   "metadata": {},
   "outputs": [],
   "source": []
  },
  {
   "cell_type": "code",
   "execution_count": null,
   "id": "bad07855",
   "metadata": {},
   "outputs": [],
   "source": []
  }
 ],
 "metadata": {
  "kernelspec": {
   "display_name": "Python 3",
   "language": "python",
   "name": "python3"
  },
  "language_info": {
   "codemirror_mode": {
    "name": "ipython",
    "version": 3
   },
   "file_extension": ".py",
   "mimetype": "text/x-python",
   "name": "python",
   "nbconvert_exporter": "python",
   "pygments_lexer": "ipython3",
   "version": "3.9.4"
  }
 },
 "nbformat": 4,
 "nbformat_minor": 5
}
